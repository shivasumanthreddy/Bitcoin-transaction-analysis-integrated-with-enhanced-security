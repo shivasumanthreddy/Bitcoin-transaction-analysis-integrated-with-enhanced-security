{
 "cells": [
  {
   "cell_type": "code",
   "execution_count": 4,
   "id": "85b5cd6c-3b41-4ad4-b48f-1700b0ceeeb2",
   "metadata": {},
   "outputs": [
    {
     "ename": "ValueError",
     "evalue": "\"0\" is an invalid base58 encoded character.",
     "output_type": "error",
     "traceback": [
      "\u001b[1;31m---------------------------------------------------------------------------\u001b[0m",
      "\u001b[1;31mValueError\u001b[0m                                Traceback (most recent call last)",
      "Cell \u001b[1;32mIn[4], line 7\u001b[0m\n\u001b[0;32m      4\u001b[0m tx_hex \u001b[38;5;241m=\u001b[39m \u001b[38;5;124m\"\u001b[39m\u001b[38;5;124m0100000001c8c8d86b00000000000000000000000000000000000000000000000000000000ffffffff07043d25011bffffffff0100f2052a010000001976a914a802fc56fb8457617c528f20c7c1e24ff013796888ac00000000\u001b[39m\u001b[38;5;124m\"\u001b[39m\n\u001b[0;32m      6\u001b[0m \u001b[38;5;66;03m# Decode transaction\u001b[39;00m\n\u001b[1;32m----> 7\u001b[0m transaction \u001b[38;5;241m=\u001b[39m \u001b[43mwif_to_key\u001b[49m\u001b[43m(\u001b[49m\u001b[43mtx_hex\u001b[49m\u001b[43m)\u001b[49m\n\u001b[0;32m      9\u001b[0m \u001b[38;5;66;03m# Print transaction details\u001b[39;00m\n\u001b[0;32m     10\u001b[0m \u001b[38;5;28mprint\u001b[39m(\u001b[38;5;124m\"\u001b[39m\u001b[38;5;124mTransaction ID:\u001b[39m\u001b[38;5;124m\"\u001b[39m, transaction\u001b[38;5;241m.\u001b[39mtxid)\n",
      "File \u001b[1;32m~\\anaconda3\\envs\\ns\\Lib\\site-packages\\bit\\wallet.py:31\u001b[0m, in \u001b[0;36mwif_to_key\u001b[1;34m(wif)\u001b[0m\n\u001b[0;32m     30\u001b[0m \u001b[38;5;28;01mdef\u001b[39;00m \u001b[38;5;21mwif_to_key\u001b[39m(wif):\n\u001b[1;32m---> 31\u001b[0m     private_key_bytes, compressed, version \u001b[38;5;241m=\u001b[39m \u001b[43mwif_to_bytes\u001b[49m\u001b[43m(\u001b[49m\u001b[43mwif\u001b[49m\u001b[43m)\u001b[49m\n\u001b[0;32m     33\u001b[0m     \u001b[38;5;28;01mif\u001b[39;00m version \u001b[38;5;241m==\u001b[39m \u001b[38;5;124m'\u001b[39m\u001b[38;5;124mmain\u001b[39m\u001b[38;5;124m'\u001b[39m:\n\u001b[0;32m     34\u001b[0m         \u001b[38;5;28;01mif\u001b[39;00m compressed:\n",
      "File \u001b[1;32m~\\anaconda3\\envs\\ns\\Lib\\site-packages\\bit\\format.py:76\u001b[0m, in \u001b[0;36mwif_to_bytes\u001b[1;34m(wif)\u001b[0m\n\u001b[0;32m     74\u001b[0m \u001b[38;5;28;01mdef\u001b[39;00m \u001b[38;5;21mwif_to_bytes\u001b[39m(wif):\n\u001b[1;32m---> 76\u001b[0m     private_key \u001b[38;5;241m=\u001b[39m \u001b[43mb58decode_check\u001b[49m\u001b[43m(\u001b[49m\u001b[43mwif\u001b[49m\u001b[43m)\u001b[49m\n\u001b[0;32m     78\u001b[0m     version \u001b[38;5;241m=\u001b[39m private_key[:\u001b[38;5;241m1\u001b[39m]\n\u001b[0;32m     80\u001b[0m     \u001b[38;5;28;01mif\u001b[39;00m version \u001b[38;5;241m==\u001b[39m MAIN_PRIVATE_KEY:\n",
      "File \u001b[1;32m~\\anaconda3\\envs\\ns\\Lib\\site-packages\\bit\\base58.py:68\u001b[0m, in \u001b[0;36mb58decode_check\u001b[1;34m(string)\u001b[0m\n\u001b[0;32m     66\u001b[0m \u001b[38;5;28;01mdef\u001b[39;00m \u001b[38;5;21mb58decode_check\u001b[39m(string):\n\u001b[1;32m---> 68\u001b[0m     decoded \u001b[38;5;241m=\u001b[39m \u001b[43mb58decode\u001b[49m\u001b[43m(\u001b[49m\u001b[43mstring\u001b[49m\u001b[43m)\u001b[49m\n\u001b[0;32m     69\u001b[0m     shortened \u001b[38;5;241m=\u001b[39m decoded[:\u001b[38;5;241m-\u001b[39m\u001b[38;5;241m4\u001b[39m]\n\u001b[0;32m     70\u001b[0m     decoded_checksum \u001b[38;5;241m=\u001b[39m decoded[\u001b[38;5;241m-\u001b[39m\u001b[38;5;241m4\u001b[39m:]\n",
      "File \u001b[1;32m~\\anaconda3\\envs\\ns\\Lib\\site-packages\\bit\\base58.py:52\u001b[0m, in \u001b[0;36mb58decode\u001b[1;34m(string)\u001b[0m\n\u001b[0;32m     50\u001b[0m         num \u001b[38;5;241m+\u001b[39m\u001b[38;5;241m=\u001b[39m alphabet_index[char]\n\u001b[0;32m     51\u001b[0m \u001b[38;5;28;01mexcept\u001b[39;00m \u001b[38;5;167;01mKeyError\u001b[39;00m:\n\u001b[1;32m---> 52\u001b[0m     \u001b[38;5;28;01mraise\u001b[39;00m \u001b[38;5;167;01mValueError\u001b[39;00m(\u001b[38;5;124m'\u001b[39m\u001b[38;5;124m\"\u001b[39m\u001b[38;5;132;01m{}\u001b[39;00m\u001b[38;5;124m\"\u001b[39m\u001b[38;5;124m is an invalid base58 encoded character.\u001b[39m\u001b[38;5;124m'\u001b[39m\u001b[38;5;241m.\u001b[39mformat(char)) \u001b[38;5;28;01mfrom\u001b[39;00m \u001b[38;5;28;01mNone\u001b[39;00m\n\u001b[0;32m     54\u001b[0m bytestr \u001b[38;5;241m=\u001b[39m int_to_unknown_bytes(num)\n\u001b[0;32m     56\u001b[0m pad \u001b[38;5;241m=\u001b[39m \u001b[38;5;241m0\u001b[39m\n",
      "\u001b[1;31mValueError\u001b[0m: \"0\" is an invalid base58 encoded character."
     ]
    }
   ],
   "source": [
    "from bit import wif_to_key\n",
    "\n",
    "# Transaction data (replace with actual transaction data)\n",
    "tx_hex = \"0100000001c8c8d86b00000000000000000000000000000000000000000000000000000000ffffffff07043d25011bffffffff0100f2052a010000001976a914a802fc56fb8457617c528f20c7c1e24ff013796888ac00000000\"\n",
    "\n",
    "# Decode transaction\n",
    "transaction = wif_to_key(tx_hex)\n",
    "\n",
    "# Print transaction details\n",
    "print(\"Transaction ID:\", transaction.txid)\n",
    "print(\"Inputs:\")\n",
    "for index, tx_input in enumerate(transaction.inputs):\n",
    "    print(f\"Input {index + 1}: {tx_input.address} ({tx_input.value} BTC)\")\n",
    "print(\"Outputs:\")\n",
    "for index, tx_output in enumerate(transaction.outputs):\n",
    "    print(f\"Output {index + 1}: {tx_output.address} ({tx_output.value} BTC)\")\n"
   ]
  },
  {
   "cell_type": "code",
   "execution_count": 3,
   "id": "b24e8752-d6ec-49b3-aff1-9eaec46f33e6",
   "metadata": {},
   "outputs": [
    {
     "name": "stdout",
     "output_type": "stream",
     "text": [
      "Collecting bit\n",
      "  Downloading bit-0.8.0-py3-none-any.whl.metadata (4.9 kB)\n",
      "Collecting coincurve>=4.3.0 (from bit)\n",
      "  Downloading coincurve-19.0.1-py3-none-win_amd64.whl.metadata (3.8 kB)\n",
      "Requirement already satisfied: requests in c:\\users\\shubh\\anaconda3\\envs\\ns\\lib\\site-packages (from bit) (2.31.0)\n",
      "Collecting asn1crypto (from coincurve>=4.3.0->bit)\n",
      "  Downloading asn1crypto-1.5.1-py2.py3-none-any.whl.metadata (13 kB)\n",
      "Requirement already satisfied: cffi>=1.3.0 in c:\\users\\shubh\\anaconda3\\envs\\ns\\lib\\site-packages (from coincurve>=4.3.0->bit) (1.16.0)\n",
      "Requirement already satisfied: charset-normalizer<4,>=2 in c:\\users\\shubh\\anaconda3\\envs\\ns\\lib\\site-packages (from requests->bit) (3.3.2)\n",
      "Requirement already satisfied: idna<4,>=2.5 in c:\\users\\shubh\\anaconda3\\envs\\ns\\lib\\site-packages (from requests->bit) (2.10)\n",
      "Requirement already satisfied: urllib3<3,>=1.21.1 in c:\\users\\shubh\\anaconda3\\envs\\ns\\lib\\site-packages (from requests->bit) (2.0.7)\n",
      "Requirement already satisfied: certifi>=2017.4.17 in c:\\users\\shubh\\anaconda3\\envs\\ns\\lib\\site-packages (from requests->bit) (2023.7.22)\n",
      "Requirement already satisfied: pycparser in c:\\users\\shubh\\anaconda3\\envs\\ns\\lib\\site-packages (from cffi>=1.3.0->coincurve>=4.3.0->bit) (2.21)\n",
      "Downloading bit-0.8.0-py3-none-any.whl (68 kB)\n",
      "   ---------------------------------------- 0.0/68.9 kB ? eta -:--:--\n",
      "   ---------------------------------------- 68.9/68.9 kB 1.9 MB/s eta 0:00:00\n",
      "Downloading coincurve-19.0.1-py3-none-win_amd64.whl (1.4 MB)\n",
      "   ---------------------------------------- 0.0/1.4 MB ? eta -:--:--\n",
      "   ---------- ----------------------------- 0.4/1.4 MB 11.2 MB/s eta 0:00:01\n",
      "   ----------------------- ---------------- 0.8/1.4 MB 8.7 MB/s eta 0:00:01\n",
      "   ------------------------------------ --- 1.3/1.4 MB 10.1 MB/s eta 0:00:01\n",
      "   ---------------------------------------- 1.4/1.4 MB 8.1 MB/s eta 0:00:00\n",
      "Downloading asn1crypto-1.5.1-py2.py3-none-any.whl (105 kB)\n",
      "   ---------------------------------------- 0.0/105.0 kB ? eta -:--:--\n",
      "   ---------------------------------------- 105.0/105.0 kB ? eta 0:00:00\n",
      "Installing collected packages: asn1crypto, coincurve, bit\n",
      "Successfully installed asn1crypto-1.5.1 bit-0.8.0 coincurve-19.0.1\n",
      "Note: you may need to restart the kernel to use updated packages.\n"
     ]
    },
    {
     "name": "stderr",
     "output_type": "stream",
     "text": [
      "DEPRECATION: Loading egg at c:\\users\\shubh\\anaconda3\\envs\\ns\\lib\\site-packages\\imagededup-0.3.2-py3.11-win-amd64.egg is deprecated. pip 24.3 will enforce this behaviour change. A possible replacement is to use pip for package installation.. Discussion can be found at https://github.com/pypa/pip/issues/12330\n"
     ]
    }
   ],
   "source": [
    "pip install bit\n"
   ]
  },
  {
   "cell_type": "code",
   "execution_count": 2,
   "id": "995702f2-87ae-4642-9b8d-0e6616581709",
   "metadata": {},
   "outputs": [
    {
     "name": "stdout",
     "output_type": "stream",
     "text": [
      "D:\\Qriocity\\bitcoin\\app_code\n"
     ]
    }
   ],
   "source": [
    "cd app_code\n"
   ]
  },
  {
   "cell_type": "code",
   "execution_count": 3,
   "id": "343368d3-2c53-43e9-9b37-709656f127b3",
   "metadata": {},
   "outputs": [
    {
     "name": "stdout",
     "output_type": "stream",
     "text": [
      " Volume in drive D is Drive\n",
      " Volume Serial Number is 2ADB-DCE2\n",
      "\n",
      " Directory of D:\\Qriocity\\bitcoin\\app_code\n",
      "\n",
      "08-04-2024  22:10    <DIR>          .\n",
      "08-04-2024  22:41    <DIR>          ..\n",
      "21-07-2020  20:26    <DIR>          circuits\n",
      "04-04-2024  14:49    <DIR>          deletionbitcoin\n",
      "04-04-2024  14:49         2,355,765 genproof.py\n",
      "04-04-2024  14:49             5,749 hash.cpp\n",
      "04-04-2024  14:49             1,272 hash.h\n",
      "04-04-2024  14:49               270 hashgeneratecircuit.sh\n",
      "04-04-2024  14:49               168 hashprover.sh\n",
      "04-04-2024  14:49               149 hashverif.sh\n",
      "04-04-2024  14:49               283 original_tx.dat\n",
      "08-04-2024  22:26             1,892 proof_verification.py\n",
      "04-04-2024  14:49            22,062 proofdel.py\n",
      "04-04-2024  14:49            14,698 README.txt\n",
      "04-04-2024  14:49             6,140 sha.py\n",
      "04-04-2024  14:49             2,024 transaction\n",
      "04-04-2024  14:49             4,801 verify_proof.py\n",
      "              13 File(s)      2,415,273 bytes\n",
      "               4 Dir(s)   4,546,732,032 bytes free\n"
     ]
    }
   ],
   "source": [
    "ls"
   ]
  },
  {
   "cell_type": "code",
   "execution_count": 4,
   "id": "dc825287-4ece-48e2-9e3c-e6dba0fc1859",
   "metadata": {},
   "outputs": [
    {
     "name": "stdout",
     "output_type": "stream",
     "text": [
      "b'\\x01\\x00\\x00\\x00\\x00\\x01\\x01Z\\xeb\\x14\\xec\\xa5\\xcf\\xc0\\xba\\xb7z\\xe1@\\x00\\x00\\x00\\x00.F\\xb7\\xb3f\\x1b`:\\xdf5B\\x98\\x02\\xc2\\xe6!\\x00\\x00\\x00\\x00\\x00\\xff\\xff\\xff\\xff\\x02\\x00\\x00\\x00\\x00\\x00\\x00\\x00\\x00SjLP\\x00\\x0c\\xbe5\\x00\\x02\\x070f\\xa0\\xfb\\xb8P{\\x08V\\x8amF\\x8evw\\xfe\\x8e\\xaa\\xa1\\x15\\x1d\\x00}\\xe1N\\xb4w\\xeb\\xef\\xfc\\xacu\\x03X\\x16i_\\x9cp\\xfaP\\xf6\\x13\\x11\\xbf^.h\\xa6\\x07\\x01b\\xb2\\x81\\x8ev\\x87\\x01\\x16\\x93\\xc5A\\xf0\\xed\\xc3\\xd6\\xe8\\xaa\\xb1v\\xae5\\xfce\\xfe\\x04\\x00\\x00\\x00\\x00\\x00\\x16\\x00\\x14_\\xc6s\\x96u\\xc6\\xd1\\xe3\\xb2\\xf3\\x9c<\\x08\\x81\\x19\\xc2\\x901\\x89+\\x02G0D\\x02 \\x1d\\xe9\\x86\\x84|P<\\x19\\xc5\\x10\\xf4\\x9e\\xa6V\\xaa\\x16\\x9c\\xfc\\xf1;\\xf5O\\x0b\\xedLd\\xc1\\x9a\\xfa\\xe1M\\x94\\x02  \\xb1\\xf8\\xa2\\x9d \\xb3\\xc9\\x15_`\\x1c\\xf5Q/\\x18<i\\xc0\\xd2/n\\xb4\\xba;6\\xae\\x100R0\\xf8\\x01!\\x02<8\\x98-\\xd8\\xae\\x87Q\\xbd\\x9b\\xd4\\xebZ#\\x88\\xf3\\x92\\x97\\xc1\\xd6\\xfb\\x93\\x06\\xc0KCE7\\xc6\\xb3t%\\x00\\x00\\x00\\x00\\x00\\x00\\x00\\x00\\x00\\x00\\x00\\x00\\x00\\x00\\x00\\x00\\x00\\x00\\x00\\x00\\x00\\x00\\x00\\x00\\x00\\x00\\x00\\x00\\x00\\x00\\x00\\x00\\x00\\x00\\x00\\x00\\x00\\x00\\x00\\x00\\x00\\x00\\x00\\x00\\x00\\x00\\x00\\x00\\x00\\x00\\x00\\x00\\x00\\x00\\x00\\x00\\x00\\x00\\x00\\x00\\x00\\x00\\x00\\x00\\x00\\x00\\x00\\x00\\x00\\x00\\x00\\x00\\x00\\x00\\x00\\x00\\x00\\x00\\x00\\x00\\x00\\x00\\x00\\x00\\x00\\x00\\x00\\x00\\x00\\x00\\x00\\x00\\x00\\x00\\x00\\x00\\x00\\x00\\x00\\x00\\x00\\x00\\x00\\x00\\x00\\x00\\x00\\x00\\x00\\x00\\x00\\x00\\x00\\x00\\x00\\x00\\x00\\x00\\x00\\x00\\x00\\x00\\x00\\x00\\x00\\x00\\x00\\x00\\x00\\x00\\x00\\x00\\x00\\x00\\x00\\x00\\x00\\x00\\x00\\x00\\x00\\x00\\x00\\x00\\x00\\x00\\x00\\x00\\x00\\x00\\x00\\x00\\x00\\x00\\x00\\x00\\x00\\x00\\x00\\x00\\x00\\x00\\x00\\x00\\x00\\x00\\x00\\x00\\x00\\x00\\x00\\x00\\x00\\x00\\x00\\x00\\x00\\x00\\x00\\x00\\x00\\x00\\x00\\x00\\x00\\x00\\x00\\x00\\x00\\x00\\x00\\x00\\x00\\x00\\x00\\x00\\x00\\x00\\x00\\x00\\x00\\x00\\x00\\x00\\x00\\x00\\x00\\x00\\x00\\x00\\x00\\x00\\x00\\x00\\x00\\x00\\x00\\x00\\x00\\x00\\x00\\x00\\x00\\x00\\x00\\x00\\x00\\x00\\x00\\x00\\x00\\x00\\x00\\x00\\x00\\x00\\x00\\x00\\x00\\x00\\x00\\x00\\x00\\x00\\x00\\x00\\x00\\x00\\x00\\x00\\x00\\x00\\x00\\x00\\x00\\x00\\x00\\x00\\x00\\x00\\x00\\x00\\x00\\x00\\x00\\x00\\x00\\x00\\x00\\x00\\x00\\x00\\x00\\x00\\x00\\x00\\x00\\x00\\x00\\x00\\x00\\x00\\x00\\x00\\x00\\x00\\x00\\x00\\x00\\x00\\x00\\x00\\x00\\x00\\x00\\x00\\x00\\x00\\x00\\x00\\x00\\x00\\x00\\x00\\x00\\x00\\x00\\x00\\x00\\x00\\x00\\x00\\x00\\x00\\x00\\x00\\x00\\x00\\x00\\x00\\x00\\x00\\x00\\x00\\x00\\x00\\x00\\x00\\x00\\x00\\x00\\x00\\x00\\x00\\x00\\x00\\x00\\x00\\x00\\x00\\x00\\x00\\x00\\x00\\x00\\x00\\x00\\x00\\x00\\x00\\x00\\x00\\x00\\x00\\x00\\x00\\x00\\x00\\x00\\x00\\x00\\x00\\x00\\x00\\x00\\x00\\x00\\x00\\x00\\x00\\x00\\x00\\x00\\x00\\x00\\x00\\x00\\x00\\x00\\x00\\x00\\x00\\x00\\x00\\x00\\x00\\x00\\x00\\x00\\x00\\x00\\x00\\x00\\x00\\x00\\x00\\x00\\x00\\x00\\x00\\x00\\x00\\x00\\x00\\x00\\x00\\x00\\x00\\x00\\x00\\x00\\x00\\x00\\x00\\x00\\x00\\x00\\x00\\x00\\x00\\x00\\x00\\x00\\x00\\x00\\x00\\x00\\x00\\x00\\x00\\x00\\x00\\x00\\x00\\x00\\x00\\x00\\x00\\x00\\x00\\x00\\x00\\x00\\x00\\x00\\x00\\x00\\x00\\x00\\x00\\x00\\x00\\x00\\x00\\x00\\x00\\x00\\x00\\x00\\x00\\x00\\x00\\x00\\x00\\x00\\x00\\x00\\x00\\x00\\x00\\x00\\x00\\x00\\x00\\x00\\x00\\x00\\x00\\x00\\x00\\x00\\x00\\x00\\x00\\x00\\x00\\x00\\x00\\x00\\x00\\x00\\x00\\x00\\x00\\x00\\x00\\x00\\x00\\x00\\x00\\x00\\x00\\x00\\x00\\x00\\x00\\x00\\x00\\x00\\x00\\x00\\x00\\x00\\x00\\x00\\x00\\x00\\x00\\x00\\x00\\x00\\x00\\x00\\x00\\x00\\x00\\x00\\x00\\x00\\x00\\x00\\x00\\x00\\x00\\x00\\x00\\x00\\x00\\x00\\x00\\x00\\x00\\x00\\x00\\x00\\x00\\x00\\x00\\x00\\x00\\x00\\x00\\x00\\x00\\x00\\x00\\x00\\x00\\x00\\x00\\x00\\x00\\x00\\x00\\x00\\x00\\x00\\x00\\x00\\x00\\x00\\x00\\x00\\x00\\x00\\x00\\x00\\x00\\x00\\x00\\x00\\x00\\x00\\x00\\x00\\x00\\x00\\x00\\x00\\x00\\x00\\x00\\x00\\x00\\x00\\x00\\x00\\x00\\x00\\x00\\x00\\x00\\x00\\x00\\x00\\x00\\x00\\x00\\x00\\x00\\x00\\x00\\x00\\x00\\x00\\x00\\x00\\x00\\x00\\x00\\x00\\x00\\x00\\x00\\x00\\x00\\x00\\x00\\x00\\x00\\x00\\x00\\x00\\x00\\x00\\x00\\x00\\x00\\x00\\x00\\x00\\x00\\x00\\x00\\x00\\x00\\x00\\x00\\x00\\x00\\x00\\x00\\x00\\x00\\x00\\x00\\x00\\x00\\x00\\x00\\x00\\x00\\x00\\x00\\x00\\x00\\x00\\x00\\x00\\x00\\x00\\x00\\x00\\x00\\x00\\x00\\x00\\x00\\x00\\x00\\x00\\x00\\x00\\x00\\x00\\x00\\x00\\x00\\x00\\x00\\x00\\x00\\x00\\x00\\x00\\x00\\x00\\x00\\x00\\x00\\x00\\x00\\x00\\x00\\x00\\x00\\x00\\x00\\x00\\x00\\x00\\x00\\x00\\x00\\x00\\x00\\x00\\x00\\x00\\x00\\x00\\x00\\x00\\x00\\x00\\x00\\x00\\x00\\x00\\x00\\x00\\x00\\x00\\x00\\x00\\x00\\x00\\x00\\x00\\x00\\x00\\x00\\x00\\x00\\x00\\x00\\x00\\x00\\x00\\x00\\x00\\x00\\x00\\x00\\x00\\x00\\x00\\x00\\x00\\x00\\x00\\x00\\x00\\x00\\x00\\x00\\x00\\x00\\x00\\x00\\x00\\x00\\x00\\x00\\x00\\x00\\x00\\x00\\x00\\x00\\x00\\x00\\x00\\x00\\x00\\x00\\x00\\x00\\x00\\x00\\x00\\x00\\x00\\x00\\x00\\x00\\x00\\x00\\x00\\x00\\x00\\x00\\x00\\x00\\x00\\x00\\x00\\x00\\x00\\x00\\x00\\x00\\x00\\x00\\x00\\x00\\x00\\x00\\x00\\x00\\x00\\x00\\x00\\x00\\x00\\x00\\x00\\x00\\x00\\x00\\x00\\x00\\x00\\x00\\x00\\x00\\x00\\x00\\x00\\x00\\x00\\x00\\x00\\x00\\x00\\x00\\x00\\x00\\x00\\x00\\x00\\x00\\x00\\x00\\x00\\x00\\x00\\x00\\x00\\x00\\x00\\x00\\x00\\x00\\x00\\x00\\x00\\x00\\x00\\x00\\x00\\x00\\x00\\x00\\x00\\x00\\x00\\x00\\x00\\x00\\x00\\x00\\x00\\x00\\x00\\x00\\x00\\x00\\x00\\x00\\x00\\x00\\x00\\x00\\x00\\x00\\x00\\x00\\x00\\x00\\x00\\x00\\x00\\x00\\x00\\x00\\x00\\x00\\x00\\x00\\x00\\x00\\x00\\x00\\x00\\x00\\x00\\x00\\x00\\x00\\x00\\x00\\x00\\x00\\x00\\x00\\x00\\x00\\x00\\x00\\x00\\x00\\x00\\x00\\x00\\x00\\x00\\x00\\x00\\x00\\x00\\x00\\x00\\x00\\x00\\x00\\x00\\x00\\x00\\x00\\x00\\x00\\x00\\x00\\x00\\x00\\x00\\x00\\x00\\x00\\x00\\x00\\x00\\x00\\x00\\x00\\x00\\x00\\x00\\x00\\x00\\x00\\x00\\x00\\x00\\x00\\x00\\x00\\x00\\x00\\x00\\x00\\x00\\x00\\x00\\x00\\x00\\x00\\x00\\x00\\x00\\x00\\x00\\x00\\x00\\x00\\x00\\x00\\x00\\x00\\x00\\x00\\x00\\x00\\x00\\x00\\x00\\x00\\x00\\x00\\x00\\x00\\x00\\x00\\x00\\x00\\x00\\x00\\x00\\x00\\x00\\x00\\x00\\x00\\x00\\x00\\x00\\x00\\x00\\x00\\x00\\x00\\x00\\x00\\x00\\x00\\x00\\x00\\x00\\x00\\x00\\x00\\x00\\x00\\x00\\x00\\x00\\x00\\x00\\x00\\x00\\x00\\x00\\x00\\x00\\x00\\x00\\x00\\x00\\x00\\x00\\x00\\x00\\x00\\x00\\x00\\x00\\x00\\x00\\x00\\x00\\x00\\x00\\x00\\x00\\x00\\x00\\x00\\x00\\x00\\x00\\x00\\x00\\x00\\x00\\x00\\x00\\x00\\x00\\x00\\x00\\x00\\x00\\x00\\x00\\x00\\x00\\x00\\x00\\x00\\x00\\x00\\x00\\x00\\x00\\x00\\x00\\x00\\x00\\x00\\x00\\x00\\x00\\x00\\x00\\x00\\x00\\x00\\x00\\x00\\x00\\x00\\x00\\x00\\x00\\x00\\x00\\x00\\x00\\x00\\x00\\x00\\x00\\x00\\x00\\x00\\x00\\x00\\x00\\x00\\x00\\x00\\x00\\x00\\x00\\x00\\x00\\x00\\x00\\x00\\x00\\x00\\x00\\x00\\x00\\x00\\x00\\x00\\x00\\x00\\x00\\x00\\x00\\x00\\x00\\x00\\x00\\x00\\x00\\x00\\x00\\x00\\x00\\x00\\x00\\x00\\x00\\x00\\x00\\x00\\x00\\x00\\x00\\x00\\x00\\x00\\x00\\x00\\x00\\x00\\x00\\x00\\x00\\x00\\x00\\x00\\x00\\x00\\x00\\x00\\x00\\x00\\x00\\x00\\x00\\x00\\x00\\x00\\x00\\x00\\x00\\x00\\x00\\x00\\x00\\x00\\x00\\x00\\x00\\x00\\x00\\x00\\x00\\x00\\x00\\x00\\x00\\x00\\x00\\x00\\x00\\x00\\x00\\x00\\x00\\x00\\x00\\x00\\x00\\x00\\x00\\x00\\x00\\x00\\x00\\x00\\x00\\x00\\x00\\x00\\x00\\x00\\x00\\x00\\x00\\x00\\x00\\x00\\x00\\x00\\x00\\x00\\x00\\x00\\x00\\x00\\x00\\x00\\x00\\x00\\x00\\x00\\x00\\x00\\x00\\x00\\x00\\x00\\x00\\x00\\x00\\x00\\x00\\x00\\x00\\x00\\x00\\x00\\x00\\x00\\x00\\x00\\x00\\x00\\x00\\x00\\x00\\x00\\x00\\x00\\x00\\x00\\x00\\x00\\x00\\x00\\x00\\x00\\x00\\x00\\x00\\x00\\x00\\x00\\x00\\x00\\x00\\x00\\x00\\x00\\x00\\x00\\x00\\x00\\x00\\x00\\x00\\x00\\x00\\x00\\x00\\x00\\x00\\x00\\x00\\x00\\x00\\x00\\x00\\x00\\x00\\x00\\x00\\x00\\x00\\x00\\x00\\x00\\x00\\x00\\x00\\x00\\x00\\x00\\x00\\x00\\x00\\x00\\x00\\x00\\x00\\x00\\x00\\x00\\x00\\x00\\x00\\x00\\x00\\x00\\x00\\x00\\x00\\x00\\x00\\x00\\x00\\x00\\x00\\x00\\x00\\x00\\x00\\x00\\x00\\x00\\x00\\x00\\x00\\x00\\x00\\x00\\x00\\x00\\x00\\x00\\x00\\x00\\x00\\x00\\x00\\x00\\x00\\x00\\x00\\x00\\x00\\x00\\x00\\x00\\x00\\x00\\x00\\x00\\x00\\x00\\x00\\x00\\x00\\x00\\x00\\x00\\x00\\x00\\x00\\x00\\x00\\x00\\x00\\x00\\x00\\x00\\x00\\x00\\x00\\x00\\x00\\x00\\x00\\x00\\x00\\x00\\x00\\x00\\x00\\x00\\x00\\x00\\x00\\x00\\x00\\x00\\x00\\x00\\x00\\x00\\x00\\x00\\x00\\x00\\x00\\x00\\x00\\x00\\x00\\x00\\x00\\x00\\x00\\x00\\x00\\x00\\x00\\x00\\x00\\x00\\x00\\x00\\x00\\x00\\x00\\x00\\x00\\x00\\x00\\x00\\x00\\x00\\x00\\x00\\x00\\x00\\x00\\x00\\x00\\x00\\x00\\x00\\x00\\x00\\x00\\x00\\x00\\x00\\x00\\x00\\x00\\x00\\x00\\x00\\x00\\x00\\x00\\x00\\x00\\x00\\x00\\x00\\x00\\x00\\x00\\x00\\x00\\x00\\x00\\x00\\x00\\x00\\x00\\x00\\x00\\x00\\x00\\x00\\x00\\x00\\x00\\x00\\x00\\x00\\x00\\x00\\x00\\x00\\x00\\x00\\x00\\x00\\x00\\x00\\x00\\x00\\x00\\x00\\x00\\x00\\x00\\x00\\x00\\x00\\x00\\x00\\x00\\x00\\x00\\x00\\x00\\x00\\x00\\x00\\x00\\x00\\x00\\x00\\x00\\x00\\x00\\x00\\x00\\x00\\x00\\x00\\x00\\x00\\x00\\x00\\x00\\x00\\x00\\x00\\x00\\x00\\x00\\x00\\x00\\x00\\x00\\x00\\x00\\x00\\x00\\x00\\x00\\x00\\x00\\x00\\x00\\x00\\x00\\x00\\x00\\x00\\x00\\x00\\x00\\x00\\x00\\x00\\x00\\x00\\x00\\x00\\x00\\x00\\x00\\x00\\x00\\x00\\x00\\x00\\x00\\x00\\x00\\x00\\x00\\x00\\x00\\x00\\x00\\x00\\x00\\x00\\x00\\x00\\x00\\x00\\x00\\x00\\x00\\x00\\x00\\x00\\x00\\x00\\x00\\x00\\x00\\x00\\x00\\x00\\x00\\x00\\x00\\x00\\x00\\x00\\x00\\x00\\x00\\x00\\x00\\x00\\x00\\x00\\x00\\x00\\x00\\x00\\x00\\x00\\x00\\x00\\x00\\x00\\x00\\x00\\x00\\x00\\x00\\x00\\x00\\x00\\x00\\x00\\x00\\x00\\x00\\x00\\x00\\x00\\x00\\x00\\x00\\x00\\x00\\x00\\x00\\x00\\x00\\x00\\x00\\x00\\x00\\x00\\x00\\x00\\x00\\x00\\x00\\x00\\x00\\x00\\x00\\x00\\x00\\x00\\x00\\x00\\x00\\x00\\x00\\x00\\x00\\x00\\x00\\x00\\x00\\x00\\x00\\x00\\x00\\x00\\x00\\x00\\x00'\n"
     ]
    }
   ],
   "source": [
    "transaction_file_path = 'transaction'\n",
    "\n",
    "with open(transaction_file_path, 'rb') as file:\n",
    "    transaction_data = file.read()\n",
    "    print(transaction_data)\n"
   ]
  },
  {
   "cell_type": "code",
   "execution_count": null,
   "id": "8f55f6ec-fe7c-45ac-ac50-9d865bde1f18",
   "metadata": {},
   "outputs": [],
   "source": []
  }
 ],
 "metadata": {
  "kernelspec": {
   "display_name": "Python 3 (ipykernel)",
   "language": "python",
   "name": "python3"
  },
  "language_info": {
   "codemirror_mode": {
    "name": "ipython",
    "version": 3
   },
   "file_extension": ".py",
   "mimetype": "text/x-python",
   "name": "python",
   "nbconvert_exporter": "python",
   "pygments_lexer": "ipython3",
   "version": "3.11.7"
  }
 },
 "nbformat": 4,
 "nbformat_minor": 5
}
